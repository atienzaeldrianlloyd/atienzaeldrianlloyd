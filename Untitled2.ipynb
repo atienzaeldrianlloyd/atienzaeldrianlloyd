{
  "nbformat": 4,
  "nbformat_minor": 0,
  "metadata": {
    "colab": {
      "name": "Untitled2.ipynb",
      "provenance": []
    },
    "kernelspec": {
      "name": "python3",
      "display_name": "Python 3"
    },
    "language_info": {
      "name": "python"
    }
  },
  "cells": [
    {
      "cell_type": "code",
      "execution_count": null,
      "metadata": {
        "id": "Z6OyzbwpJisK"
      },
      "outputs": [],
      "source": [
        "import cv2 as cv\n",
        "import numpy as np\n",
        "cap = cv.VideoCapture(0)\n",
        "\n",
        "j = 0   \n",
        "while(1):\n",
        "    _, frame = cap.read()\n",
        "    hsv = cv.cvtColor(frame, cv.COLOR_BGR2HSV)\n",
        "    \n",
        "    call = cv.imshow('res', frame)\n",
        "    \n",
        "    k = cv.waitKey(5) & 0xFF\n",
        "    \n",
        "    if k == 27:\n",
        "        break\n",
        "    elif k == 49 or j > 0:\n",
        "        call  = cv.imshow('new', hsv)\n",
        "        j += 1 \n",
        "        if k == 115:\n",
        "            cv.imwrite(\"./hsv/eldrian.png\", hsv)  \n",
        "    if k == 51:\n",
        "        img = cv.imread('image.png')\n",
        "        tick=str(emoji.emojize(':haha_face:'))\n",
        "        cv.putText(img, tick,(5,5), cv.FONT_HERSHEY_TRIPLEX, 1, (255, 255, 255), 3)\n",
        "        cv.imshow(\"haha_face\",img)\n",
        "        \n",
        "\n",
        "cv.destroyAllWindows()"
      ]
    },
    {
      "cell_type": "code",
      "source": [
        ""
      ],
      "metadata": {
        "id": "oasfXXRUJxsv"
      },
      "execution_count": null,
      "outputs": []
    }
  ]
}